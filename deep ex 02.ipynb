{
  "nbformat": 4,
  "nbformat_minor": 0,
  "metadata": {
    "colab": {
      "provenance": []
    },
    "kernelspec": {
      "name": "python3",
      "display_name": "Python 3"
    },
    "language_info": {
      "name": "python"
    }
  },
  "cells": [
    {
      "cell_type": "code",
      "execution_count": 99,
      "metadata": {
        "id": "EM9ZezqGQ4mt"
      },
      "outputs": [],
      "source": [
        "import torch\n",
        "import torch.nn as nn\n",
        "import torch.nn.functional as F\n",
        "from torch.utils.data import Dataset, DataLoader\n",
        "from sklearn.model_selection import train_test_split\n",
        "\n",
        "import pandas as pd\n",
        "import matplotlib.pyplot as plt\n",
        "%matplotlib inline\n"
      ]
    },
    {
      "cell_type": "code",
      "source": [
        "print(\"NAME:KEERTHIKA M P\")\n",
        "print(\"REG NO:212223240071\")"
      ],
      "metadata": {
        "id": "iVYWV8NyURd-"
      },
      "execution_count": null,
      "outputs": []
    },
    {
      "cell_type": "code",
      "source": [
        "# Define the Model class\n",
        "class Model(nn.Module):\n",
        "    def __init__(self, in_features=4, h1=10, h2=11, out_features=3):\n",
        "        super().__init__()\n",
        "        self.fc1 = nn.Linear(in_features, h1)    # Input layer\n",
        "        self.fc2 = nn.Linear(h1, h2)             # Hidden layer\n",
        "        self.out = nn.Linear(h2, out_features)   # Output layer\n",
        "\n",
        "    def forward(self, x):\n",
        "        x = F.relu(self.fc1(x))  # Activation function for first hidden layer\n",
        "        x = F.relu(self.fc2(x))  # Activation function for second hidden layer\n",
        "        x = self.out(x)          # Output layer (no activation, raw scores)\n",
        "        return x\n"
      ],
      "metadata": {
        "id": "E3C_rvgYRzjy"
      },
      "execution_count": null,
      "outputs": []
    },
    {
      "cell_type": "code",
      "source": [
        "# Instantiate the Model class using parameter defaults\n",
        "torch.manual_seed(32)  # For reproducibility\n",
        "model = Model()"
      ],
      "metadata": {
        "id": "U99O6YpERzl6"
      },
      "execution_count": null,
      "outputs": []
    },
    {
      "cell_type": "code",
      "source": [
        "df = pd.read_csv('iris.csv')\n",
        "df.head()"
      ],
      "metadata": {
        "id": "UjIDZhR4Rzn7"
      },
      "execution_count": null,
      "outputs": []
    },
    {
      "cell_type": "code",
      "source": [
        "X = df.drop('target', axis=1).values\n",
        "y = df['target'].values\n",
        "X_train, X_test, y_train, y_test = train_test_split(X, y, test_size=0.2, random_state=33)\n",
        "X_train = torch.FloatTensor(X_train)\n",
        "X_test = torch.FloatTensor(X_test)\n",
        "# y_train = F.one_hot(torch.LongTensor(y_train))  # Not needed with CrossEntropyLoss\n",
        "# y_test = F.one_hot(torch.LongTensor(y_test))\n",
        "y_train = torch.LongTensor(y_train)\n",
        "y_test = torch.LongTensor(y_test)"
      ],
      "metadata": {
        "id": "QDIfboGeRzqT"
      },
      "execution_count": null,
      "outputs": []
    },
    {
      "cell_type": "code",
      "source": [
        "trainloader = DataLoader(X_train, batch_size=60, shuffle=True)\n",
        "\n",
        "testloader = DataLoader(X_test, batch_size=60, shuffle=False)"
      ],
      "metadata": {
        "id": "-fCgW6wJRzsd"
      },
      "execution_count": null,
      "outputs": []
    },
    {
      "cell_type": "code",
      "source": [
        "torch.manual_seed(4)\n",
        "model = Model()"
      ],
      "metadata": {
        "id": "swq6LY27Rzv_"
      },
      "execution_count": null,
      "outputs": []
    },
    {
      "cell_type": "code",
      "source": [
        "criterion = nn.CrossEntropyLoss()\n",
        "optimizer = torch.optim.Adam(model.parameters(), lr=0.01)"
      ],
      "metadata": {
        "id": "s4g9xRlRR_qU"
      },
      "execution_count": null,
      "outputs": []
    },
    {
      "cell_type": "code",
      "source": [
        "epochs = 100\n",
        "losses = []\n",
        "\n",
        "for i in range(epochs):\n",
        "    i+=1\n",
        "    y_pred = model.forward(X_train)\n",
        "    loss = criterion(y_pred, y_train)\n",
        "    losses.append(loss)\n",
        "\n",
        "    # a neat trick to save screen space:\n",
        "    if i%10 == 1:\n",
        "        print(f'epoch: {i:2}  loss: {loss.item():10.8f}')\n",
        "\n",
        "    optimizer.zero_grad()\n",
        "    loss.backward()\n",
        "    optimizer.step()"
      ],
      "metadata": {
        "id": "hjpKHpgDSGAq"
      },
      "execution_count": null,
      "outputs": []
    },
    {
      "cell_type": "code",
      "source": [
        "plt.plot(range(epochs), [loss.detach().numpy() for loss in losses])\n",
        "plt.xlabel('Epochs')\n",
        "plt.ylabel('Loss')\n",
        "plt.title('Training Loss Over Time')\n",
        "plt.show()"
      ],
      "metadata": {
        "id": "29FjsixcSWSx"
      },
      "execution_count": null,
      "outputs": []
    },
    {
      "cell_type": "code",
      "source": [
        "with torch.no_grad():\n",
        "    y_val = model.forward(X_test)\n",
        "    loss = criterion(y_val, y_test)\n",
        "print(f'{loss:.8f}')"
      ],
      "metadata": {
        "id": "6tKgNkrTSYO5"
      },
      "execution_count": null,
      "outputs": []
    },
    {
      "cell_type": "code",
      "source": [
        "print(\"NAME:KEERTHIKA M P\")\n",
        "print(\"REG NO:212223240071\")"
      ],
      "metadata": {
        "id": "lBolBV1eUdQV"
      },
      "execution_count": null,
      "outputs": []
    },
    {
      "cell_type": "code",
      "source": [
        "correct = 0\n",
        "with torch.no_grad():\n",
        "    for i,data in enumerate(X_test):\n",
        "        y_val = model.forward(data)\n",
        "        print(f'{i+1:2}. {str(y_val):38}  {y_test[i]}')\n",
        "        if y_val.argmax().item() == y_test[i]:\n",
        "            correct += 1\n",
        "print(f'\\n{correct} out of {len(y_test)} = {100*correct/len(y_test):.2f}% correct')"
      ],
      "metadata": {
        "id": "OTvv0xGNSYp6"
      },
      "execution_count": null,
      "outputs": []
    },
    {
      "cell_type": "code",
      "source": [
        "torch.save(model.state_dict(), 'IrisDatasetModel.pt')"
      ],
      "metadata": {
        "id": "gMZZyAnnSYsN"
      },
      "execution_count": null,
      "outputs": []
    },
    {
      "cell_type": "code",
      "source": [
        "new_model = Model()\n",
        "new_model.load_state_dict(torch.load('IrisDatasetModel.pt'))\n",
        "new_model.eval()"
      ],
      "metadata": {
        "id": "-ys8p0BqSYvv"
      },
      "execution_count": null,
      "outputs": []
    },
    {
      "cell_type": "code",
      "source": [
        "with torch.no_grad():\n",
        "    y_val = new_model.forward(X_test)\n",
        "    loss = criterion(y_val, y_test)\n",
        "print(f'{loss:.8f}')"
      ],
      "metadata": {
        "id": "uztQZpAhSfbm"
      },
      "execution_count": null,
      "outputs": []
    },
    {
      "cell_type": "code",
      "source": [
        "mystery_iris = torch.tensor([5.6,3.7,2.2,0.5])"
      ],
      "metadata": {
        "id": "UhAiacJRSfde"
      },
      "execution_count": null,
      "outputs": []
    },
    {
      "cell_type": "code",
      "source": [
        "fig, axes = plt.subplots(nrows=2, ncols=2, figsize=(10,7))\n",
        "fig.tight_layout()\n",
        "\n",
        "plots = [(0,1),(2,3),(0,2),(1,3)]\n",
        "colors = ['b', 'r', 'g']\n",
        "labels = ['Iris setosa','Iris virginica','Iris versicolor','Mystery iris']\n",
        "\n",
        "for i, ax in enumerate(axes.flat):\n",
        "    for j in range(3):\n",
        "        x = df.columns[plots[i][0]]\n",
        "        y = df.columns[plots[i][1]]\n",
        "        ax.scatter(df[df['target']==j][x], df[df['target']==j][y], color=colors[j])\n",
        "        ax.set(xlabel=x, ylabel=y)\n",
        "\n",
        "    # Add a plot for our mystery iris:\n",
        "    ax.scatter(mystery_iris[plots[i][0]],mystery_iris[plots[i][1]], color='y')\n",
        "\n",
        "fig.legend(labels=labels, loc=3, bbox_to_anchor=(1.0,0.85))\n",
        "plt.show()"
      ],
      "metadata": {
        "id": "bJxJB4OsSfgJ"
      },
      "execution_count": null,
      "outputs": []
    },
    {
      "cell_type": "code",
      "source": [
        "with torch.no_grad():\n",
        "    print(new_model(mystery_iris))\n",
        "    print()\n",
        "    print(labels[new_model(mystery_iris).argmax()])"
      ],
      "metadata": {
        "id": "zD-RTsCISfiy"
      },
      "execution_count": null,
      "outputs": []
    },
    {
      "cell_type": "code",
      "source": [
        "print(\"NAME:KEERTHIKA M P\")\n",
        "print(\"REG NO:212223240071\")"
      ],
      "metadata": {
        "id": "FfZQyc2jUgYc"
      },
      "execution_count": null,
      "outputs": []
    },
    {
      "cell_type": "code",
      "source": [
        "torch.save(model.state_dict(),'KEERTHIKA M P.pt')"
      ],
      "metadata": {
        "id": "onnZPolESfmH"
      },
      "execution_count": null,
      "outputs": []
    },
    {
      "cell_type": "code",
      "source": [],
      "metadata": {
        "id": "-irsjYf4WOSJ"
      },
      "execution_count": null,
      "outputs": []
    }
  ]
}